{
 "cells": [
  {
   "cell_type": "code",
   "execution_count": null,
   "metadata": {},
   "outputs": [],
   "source": [
    "from transformers import pipeline \n",
    "from transformers import BartTokenizer, BartForConditionalGeneration\n",
    "import pandas as pd \n",
    "import numpy as np "
   ]
  },
  {
   "cell_type": "code",
   "execution_count": null,
   "metadata": {},
   "outputs": [],
   "source": [
    "# Initialize the tokenizer and model for summarization\n",
    "try:\n",
    "    tokenizer1 = BartTokenizer.from_pretrained('facebook/bart-large-cnn')\n",
    "    model1 = BartForConditionalGeneration.from_pretrained('facebook/bart-large-cnn')\n",
    "except Exception as e:\n",
    "    print(f\"Error loading model or tokenizer: {e}\")\n",
    "\n",
    "# Initialize pipelines\n",
    "sentiment_analysis_model = pipeline(\"sentiment-analysis\")  \n",
    "summarizer_model = pipeline(\"summarization\", model=model1, tokenizer=tokenizer1)"
   ]
  },
  {
   "cell_type": "code",
   "execution_count": 3,
   "metadata": {},
   "outputs": [],
   "source": [
    "# Read CSV data\n",
    "try:\n",
    "    datas = pd.read_csv(\"ReviewList.csv\", encoding=\"utf-8\") #modify according to the file name\n",
    "except UnicodeDecodeError:\n",
    "    datas = pd.read_csv(\"ReviewList.csv\", encoding=\"latin1\") #modify according to the file name\n",
    "\n",
    "# Extract unique product names\n",
    "unique_products=datas.ProductName.unique()"
   ]
  },
  {
   "cell_type": "code",
   "execution_count": 4,
   "metadata": {},
   "outputs": [],
   "source": [
    "def Text_Sentiment_Analysis(product_name):\n",
    "\n",
    "    \"\"\"\n",
    "    Perform sentiment analysis on the product reviews.\n",
    "    \"\"\"\n",
    "    positive_review=np.array([])\n",
    "    negative_review=np.array([])\n",
    "    \n",
    "    product_reviews=datas.query(\"ProductName==@product_name\")[\"Summary\"]\n",
    "\n",
    "    for review in product_reviews:\n",
    "\n",
    "        sentiment=sentiment_analysis_model(review)\n",
    "        sentiment=[{\"score\": round(pred[\"score\"], 4), \"label\": pred[\"label\"]} for pred in sentiment]\n",
    "        if sentiment[0]['label']==\"POSITIVE\":\n",
    "\n",
    "            positive_review=np.append(positive_review,review)\n",
    "\n",
    "        elif sentiment[0]['label']==\"NEGATIVE\":\n",
    "\n",
    "            negative_review=np.append(negative_review,review)\n",
    "                  \n",
    "    return [positive_review,negative_review]"
   ]
  },
  {
   "cell_type": "code",
   "execution_count": 5,
   "metadata": {},
   "outputs": [],
   "source": [
    "def summarization(reviews):\n",
    "    \n",
    "    \"\"\"\n",
    "    Summarize the given reviews.\n",
    "    \"\"\"\n",
    "    if isinstance(reviews, list):\n",
    "        \n",
    "        reviews = \" \".join(reviews)\n",
    "    \n",
    "    if not reviews.strip():\n",
    "        return \"\"\n",
    "    \n",
    "    max_token_length = 1024  \n",
    "    inputs = tokenizer1(reviews, return_tensors=\"pt\", max_length=max_token_length, truncation=True)\n",
    " \n",
    "    truncated_text = tokenizer1.decode(inputs['input_ids'][0], skip_special_tokens=True)\n",
    "    result = summarizer_model(truncated_text, max_length=30, min_length=15, do_sample=False)\n",
    "    \n",
    "    return result[0]['summary_text']"
   ]
  },
  {
   "cell_type": "code",
   "execution_count": 6,
   "metadata": {},
   "outputs": [],
   "source": [
    "def product_description(product_name):\n",
    "    \n",
    "    \"\"\"\n",
    "    Generate a product description based on the sentiment analysis of reviews.\n",
    "    \"\"\"\n",
    "    Positive_Review,Negative_Review=Text_Sentiment_Analysis(product_name)\n",
    "\n",
    "    Positive_Review_Summarizer=summarization(list(Positive_Review))\n",
    "    negative_Review_Summarizer=summarization(list(Negative_Review))\n",
    "\n",
    "    text=Positive_Review_Summarizer+\", \"+negative_Review_Summarizer\n",
    "    final_summarizer=summarizer_model(text,max_length=30,min_length=5,do_sample=True)\n",
    "    \n",
    "    percentage_liked=len(Positive_Review_Summarizer)/(len(Positive_Review_Summarizer)+len(negative_Review_Summarizer))\n",
    "    \n",
    "    RESET = \"\\033[0m\"  \n",
    "    BLUE = \"\\033[34m\"  \n",
    "\n",
    "    print(\"Product Name: \",product_name)\n",
    "    print(\"Description : \",final_summarizer[0]['summary_text'])\n",
    "    \n",
    "    print(f\"Product Approved :{BLUE + '✔️' + RESET} {(percentage_liked*100):.2f}% Satisfaction\")"
   ]
  },
  {
   "cell_type": "code",
   "execution_count": null,
   "metadata": {},
   "outputs": [],
   "source": [
    "# Process each unique product and print description\n",
    "\n",
    "for products in unique_products:\n",
    "    \n",
    "    product_description(products)"
   ]
  }
 ],
 "metadata": {
  "kernelspec": {
   "display_name": "Python 3",
   "language": "python",
   "name": "python3"
  },
  "language_info": {
   "codemirror_mode": {
    "name": "ipython",
    "version": 3
   },
   "file_extension": ".py",
   "mimetype": "text/x-python",
   "name": "python",
   "nbconvert_exporter": "python",
   "pygments_lexer": "ipython3",
   "version": "3.9.5"
  }
 },
 "nbformat": 4,
 "nbformat_minor": 2
}
